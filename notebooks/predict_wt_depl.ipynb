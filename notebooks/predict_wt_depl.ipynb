{
 "cells": [
  {
   "cell_type": "code",
   "execution_count": 1,
   "metadata": {
    "collapsed": true
   },
   "outputs": [],
   "source": [
    "import matplotlib.pyplot as plt\n",
    "import pandas as pd\n",
    "import numpy as np\n",
    "import seaborn as sns\n",
    "from sklearn.ensemble import RandomForestClassifier\n",
    "from tkinter import *\n",
    "from tkinter import filedialog\n",
    "import joblib\n",
    "import os\n",
    "import sys\n",
    "if not os.path.join(os.path.abspath(''), '../') in sys.path:\n",
    "    sys.path.append(os.path.join(os.path.abspath(''), '../'))\n",
    "from utils.extract_features import *\n",
    "from tqdm import notebook"
   ]
  },
  {
   "cell_type": "code",
   "execution_count": 2,
   "outputs": [],
   "source": [
    "label_names = ['pause', 'rear', 'groom', 'left', 'right', 'straight']"
   ],
   "metadata": {
    "collapsed": false
   }
  },
  {
   "cell_type": "code",
   "execution_count": 3,
   "outputs": [
    {
     "name": "stderr",
     "output_type": "stream",
     "text": [
      "2023-02-20 10:38:45.645 python[64893:3338477] +[CATransaction synchronize] called within transaction\n",
      "2023-02-20 10:38:51.232 python[64893:3338477] +[CATransaction synchronize] called within transaction\n"
     ]
    }
   ],
   "source": [
    "# Create Tk root\n",
    "root = Tk()\n",
    "# Hide the main window\n",
    "root.withdraw()\n",
    "root.call('wm', 'attributes', '.', '-topmost', True)\n",
    "feats_labels_file = filedialog.askopenfilename(multiple=False, title='load asoid feats labels sav')\n",
    "model_file = filedialog.askopenfilename(multiple=False, title='load asoid iterX model sav')\n",
    "%gui tk"
   ],
   "metadata": {
    "collapsed": false
   }
  },
  {
   "cell_type": "code",
   "execution_count": 4,
   "outputs": [
    {
     "name": "stderr",
     "output_type": "stream",
     "text": [
      "/opt/anaconda3/envs/seal/lib/python3.9/site-packages/sklearn/base.py:299: UserWarning: Trying to unpickle estimator StandardScaler from version 1.1.2 when using version 1.2.1. This might lead to breaking code or invalid results. Use at your own risk. For more info please refer to:\n",
      "https://scikit-learn.org/stable/model_persistence.html#security-maintainability-limitations\n",
      "  warnings.warn(\n",
      "/opt/anaconda3/envs/seal/lib/python3.9/site-packages/sklearn/base.py:299: UserWarning: Trying to unpickle estimator DecisionTreeClassifier from version 1.1.2 when using version 1.2.1. This might lead to breaking code or invalid results. Use at your own risk. For more info please refer to:\n",
      "https://scikit-learn.org/stable/model_persistence.html#security-maintainability-limitations\n",
      "  warnings.warn(\n",
      "/opt/anaconda3/envs/seal/lib/python3.9/site-packages/sklearn/base.py:299: UserWarning: Trying to unpickle estimator RandomForestClassifier from version 1.1.2 when using version 1.2.1. This might lead to breaking code or invalid results. Use at your own risk. For more info please refer to:\n",
      "https://scikit-learn.org/stable/model_persistence.html#security-maintainability-limitations\n",
      "  warnings.warn(\n"
     ]
    }
   ],
   "source": [
    "[_, _, scalar, frames2integ] = joblib.load(feats_labels_file)\n",
    "[model, train_feats, train_labels, _, _, _] = joblib.load(model_file)"
   ],
   "metadata": {
    "collapsed": false
   }
  },
  {
   "cell_type": "code",
   "execution_count": 28,
   "outputs": [
    {
     "data": {
      "text/plain": "((2836, 36), (2836,))"
     },
     "execution_count": 28,
     "metadata": {},
     "output_type": "execute_result"
    }
   ],
   "source": [
    "X = scalar.inverse_transform(train_feats[-1][2])\n",
    "y = train_labels[-1][2]\n",
    "X.shape, y.shape"
   ],
   "metadata": {
    "collapsed": false
   }
  },
  {
   "cell_type": "code",
   "execution_count": 29,
   "outputs": [
    {
     "data": {
      "text/plain": "RandomForestClassifier(class_weight='balanced_subsample', n_estimators=200,\n                       n_jobs=-1, random_state=42)",
      "text/html": "<style>#sk-container-id-4 {color: black;background-color: white;}#sk-container-id-4 pre{padding: 0;}#sk-container-id-4 div.sk-toggleable {background-color: white;}#sk-container-id-4 label.sk-toggleable__label {cursor: pointer;display: block;width: 100%;margin-bottom: 0;padding: 0.3em;box-sizing: border-box;text-align: center;}#sk-container-id-4 label.sk-toggleable__label-arrow:before {content: \"▸\";float: left;margin-right: 0.25em;color: #696969;}#sk-container-id-4 label.sk-toggleable__label-arrow:hover:before {color: black;}#sk-container-id-4 div.sk-estimator:hover label.sk-toggleable__label-arrow:before {color: black;}#sk-container-id-4 div.sk-toggleable__content {max-height: 0;max-width: 0;overflow: hidden;text-align: left;background-color: #f0f8ff;}#sk-container-id-4 div.sk-toggleable__content pre {margin: 0.2em;color: black;border-radius: 0.25em;background-color: #f0f8ff;}#sk-container-id-4 input.sk-toggleable__control:checked~div.sk-toggleable__content {max-height: 200px;max-width: 100%;overflow: auto;}#sk-container-id-4 input.sk-toggleable__control:checked~label.sk-toggleable__label-arrow:before {content: \"▾\";}#sk-container-id-4 div.sk-estimator input.sk-toggleable__control:checked~label.sk-toggleable__label {background-color: #d4ebff;}#sk-container-id-4 div.sk-label input.sk-toggleable__control:checked~label.sk-toggleable__label {background-color: #d4ebff;}#sk-container-id-4 input.sk-hidden--visually {border: 0;clip: rect(1px 1px 1px 1px);clip: rect(1px, 1px, 1px, 1px);height: 1px;margin: -1px;overflow: hidden;padding: 0;position: absolute;width: 1px;}#sk-container-id-4 div.sk-estimator {font-family: monospace;background-color: #f0f8ff;border: 1px dotted black;border-radius: 0.25em;box-sizing: border-box;margin-bottom: 0.5em;}#sk-container-id-4 div.sk-estimator:hover {background-color: #d4ebff;}#sk-container-id-4 div.sk-parallel-item::after {content: \"\";width: 100%;border-bottom: 1px solid gray;flex-grow: 1;}#sk-container-id-4 div.sk-label:hover label.sk-toggleable__label {background-color: #d4ebff;}#sk-container-id-4 div.sk-serial::before {content: \"\";position: absolute;border-left: 1px solid gray;box-sizing: border-box;top: 0;bottom: 0;left: 50%;z-index: 0;}#sk-container-id-4 div.sk-serial {display: flex;flex-direction: column;align-items: center;background-color: white;padding-right: 0.2em;padding-left: 0.2em;position: relative;}#sk-container-id-4 div.sk-item {position: relative;z-index: 1;}#sk-container-id-4 div.sk-parallel {display: flex;align-items: stretch;justify-content: center;background-color: white;position: relative;}#sk-container-id-4 div.sk-item::before, #sk-container-id-4 div.sk-parallel-item::before {content: \"\";position: absolute;border-left: 1px solid gray;box-sizing: border-box;top: 0;bottom: 0;left: 50%;z-index: -1;}#sk-container-id-4 div.sk-parallel-item {display: flex;flex-direction: column;z-index: 1;position: relative;background-color: white;}#sk-container-id-4 div.sk-parallel-item:first-child::after {align-self: flex-end;width: 50%;}#sk-container-id-4 div.sk-parallel-item:last-child::after {align-self: flex-start;width: 50%;}#sk-container-id-4 div.sk-parallel-item:only-child::after {width: 0;}#sk-container-id-4 div.sk-dashed-wrapped {border: 1px dashed gray;margin: 0 0.4em 0.5em 0.4em;box-sizing: border-box;padding-bottom: 0.4em;background-color: white;}#sk-container-id-4 div.sk-label label {font-family: monospace;font-weight: bold;display: inline-block;line-height: 1.2em;}#sk-container-id-4 div.sk-label-container {text-align: center;}#sk-container-id-4 div.sk-container {/* jupyter's `normalize.less` sets `[hidden] { display: none; }` but bootstrap.min.css set `[hidden] { display: none !important; }` so we also need the `!important` here to be able to override the default hidden behavior on the sphinx rendered scikit-learn.org. See: https://github.com/scikit-learn/scikit-learn/issues/21755 */display: inline-block !important;position: relative;}#sk-container-id-4 div.sk-text-repr-fallback {display: none;}</style><div id=\"sk-container-id-4\" class=\"sk-top-container\"><div class=\"sk-text-repr-fallback\"><pre>RandomForestClassifier(class_weight=&#x27;balanced_subsample&#x27;, n_estimators=200,\n                       n_jobs=-1, random_state=42)</pre><b>In a Jupyter environment, please rerun this cell to show the HTML representation or trust the notebook. <br />On GitHub, the HTML representation is unable to render, please try loading this page with nbviewer.org.</b></div><div class=\"sk-container\" hidden><div class=\"sk-item\"><div class=\"sk-estimator sk-toggleable\"><input class=\"sk-toggleable__control sk-hidden--visually\" id=\"sk-estimator-id-4\" type=\"checkbox\" checked><label for=\"sk-estimator-id-4\" class=\"sk-toggleable__label sk-toggleable__label-arrow\">RandomForestClassifier</label><div class=\"sk-toggleable__content\"><pre>RandomForestClassifier(class_weight=&#x27;balanced_subsample&#x27;, n_estimators=200,\n                       n_jobs=-1, random_state=42)</pre></div></div></div></div></div>"
     },
     "execution_count": 29,
     "metadata": {},
     "output_type": "execute_result"
    }
   ],
   "source": [
    "rf_clf = RandomForestClassifier(n_estimators=200,\n",
    "                                random_state=42,\n",
    "                                n_jobs=-1,\n",
    "                                criterion='gini',\n",
    "                                class_weight='balanced_subsample')\n",
    "rf_clf.fit(X, y)"
   ],
   "metadata": {
    "collapsed": false
   }
  },
  {
   "cell_type": "code",
   "execution_count": 7,
   "outputs": [
    {
     "name": "stderr",
     "output_type": "stream",
     "text": [
      "2023-02-20 10:39:02.664 python[64893:3338477] +[CATransaction synchronize] called within transaction\n"
     ]
    }
   ],
   "source": [
    "# Create Tk root\n",
    "root = Tk()\n",
    "# Hide the main window\n",
    "root.withdraw()\n",
    "root.call('wm', 'attributes', '.', '-topmost', True)\n",
    "dlc_files = filedialog.askopenfilename(multiple=True, title='load dlc csv files')\n",
    "%gui tk"
   ],
   "metadata": {
    "collapsed": false
   }
  },
  {
   "cell_type": "code",
   "execution_count": 8,
   "outputs": [
    {
     "data": {
      "text/plain": "  0%|          | 0/2 [00:00<?, ?it/s]",
      "application/vnd.jupyter.widget-view+json": {
       "version_major": 2,
       "version_minor": 0,
       "model_id": "27eaa37656cf4f60a2255eeb21b2bbd4"
      }
     },
     "metadata": {},
     "output_type": "display_data"
    }
   ],
   "source": [
    "df_0 = pd.read_csv(dlc_files[0], header=[0, 1, 2], sep=\",\", index_col=0, low_memory=False)\n",
    "# get rid of likelihood columns for deeplabcut\n",
    "llh_cols = np.where(df_0.columns.get_level_values(2)=='likelihood')[0]\n",
    "idx_selected = [i for i in np.arange(len(df_0.columns)) if i not in llh_cols]\n",
    "input_pose_files = []\n",
    "for dlc_file in notebook.tqdm(dlc_files):\n",
    "    dlc_df = pd.read_csv(dlc_file, header=[0, 1, 2], sep=\",\", low_memory=False, index_col=0)\n",
    "    input_pose_files.append(np.array(dlc_df.iloc[:, idx_selected]))\n",
    "\n"
   ],
   "metadata": {
    "collapsed": false
   }
  },
  {
   "cell_type": "code",
   "execution_count": 18,
   "outputs": [
    {
     "data": {
      "text/plain": "  0%|          | 0/2 [00:00<?, ?it/s]",
      "application/vnd.jupyter.widget-view+json": {
       "version_major": 2,
       "version_minor": 0,
       "model_id": "41de8e3c631b466f8ee47e6ccccdf83d"
      }
     },
     "metadata": {},
     "output_type": "display_data"
    }
   ],
   "source": [
    "features_list = []\n",
    "scaled_features_list = []\n",
    "for i, data in enumerate(notebook.tqdm(input_pose_files)):\n",
    "    # we are doing this to predict on each file seperatly!\n",
    "    features, scaled_features = feature_extraction([data], 1, frames2integ)\n",
    "    features_list.append(features)\n",
    "    scaled_features_list.append(scaled_features)\n"
   ],
   "metadata": {
    "collapsed": false
   }
  },
  {
   "cell_type": "code",
   "execution_count": 30,
   "outputs": [],
   "source": [
    "predictions_list = []\n",
    "for features_file in features_list:\n",
    "    predictions_list.append(rf_clf.predict(features_file))"
   ],
   "metadata": {
    "collapsed": false
   }
  },
  {
   "cell_type": "code",
   "execution_count": 21,
   "outputs": [],
   "source": [
    "predictions_list = []\n",
    "for scaled_features_file in scaled_features_list:\n",
    "    predictions_list.append(rf_clf.predict(scaled_features_file))"
   ],
   "metadata": {
    "collapsed": false
   }
  },
  {
   "cell_type": "code",
   "execution_count": 31,
   "outputs": [
    {
     "data": {
      "text/plain": "<Figure size 400x300 with 1 Axes>",
      "image/png": "[encoded data removed]"
     },
     "metadata": {},
     "output_type": "display_data"
    }
   ],
   "source": [
    "fig, ax = plt.subplots(1, 1, figsize=(4, 3))\n",
    "ax = sns.histplot(data=predictions_list,\n",
    "                  shrink=2,\n",
    "                  multiple='dodge',\n",
    "                  stat = 'percent',\n",
    "                  common_norm=False)\n",
    "ax.set_title('depleted (wt)')\n",
    "ax.set_xticks(np.arange(0, len(label_names)))\n",
    "ax.set_xticklabels(label_names)\n",
    "ax.set_ylim([0, 20])\n",
    "plt.show()"
   ],
   "metadata": {
    "collapsed": false
   }
  },
  {
   "cell_type": "code",
   "execution_count": 60,
   "outputs": [
    {
     "data": {
      "text/plain": "  0%|          | 0/2 [00:00<?, ?it/s]",
      "application/vnd.jupyter.widget-view+json": {
       "version_major": 2,
       "version_minor": 0,
       "model_id": "35e690e623114d8f8002f36186e15ff6"
      }
     },
     "metadata": {},
     "output_type": "display_data"
    }
   ],
   "source": [
    "bout_counts_all = []\n",
    "behav_durations_all = []\n",
    "for f in notebook.tqdm(range(len(predictions_list))):\n",
    "    bout_start_idx = np.where(np.diff(np.hstack([-1, predictions_list[f]])) != 0)[0]\n",
    "    bout_durations = np.hstack([np.diff(bout_start_idx), len(predictions_list[f])-np.max(bout_start_idx)])\n",
    "    bout_start_label = predictions_list[f][bout_start_idx]\n",
    "    bout_counts = []\n",
    "    behav_durations = []\n",
    "    for b in np.unique(bout_start_label):\n",
    "        idx_b = np.where(bout_start_label == int(b))[0]\n",
    "        bout_counts.append(len(idx_b))\n",
    "        behav_durations.append(bout_durations[idx_b])\n",
    "    bout_counts_all.append(bout_counts)\n",
    "    behav_durations_all.append(behav_durations)"
   ],
   "metadata": {
    "collapsed": false
   }
  },
  {
   "cell_type": "code",
   "execution_count": 63,
   "outputs": [
    {
     "data": {
      "text/plain": "<AxesSubplot: >"
     },
     "execution_count": 63,
     "metadata": {},
     "output_type": "execute_result"
    },
    {
     "data": {
      "text/plain": "<Figure size 300x200 with 1 Axes>",
      "image/png": "[encoded data removed]"
     },
     "metadata": {},
     "output_type": "display_data"
    }
   ],
   "source": [
    "fig, ax = plt.subplots(1, 1, figsize=(3, 2))\n",
    "# ax.bar(np.arange(len(bout_counts)), bout_counts)\n",
    "sns.barplot(data=np.vstack(bout_counts_all))"
   ],
   "metadata": {
    "collapsed": false
   }
  },
  {
   "cell_type": "code",
   "execution_count": 58,
   "outputs": [
    {
     "data": {
      "text/plain": "<AxesSubplot: ylabel='Proportion'>"
     },
     "execution_count": 58,
     "metadata": {},
     "output_type": "execute_result"
    },
    {
     "data": {
      "text/plain": "<Figure size 300x200 with 1 Axes>",
      "image/png": "[encoded data removed]"
     },
     "metadata": {},
     "output_type": "display_data"
    }
   ],
   "source": [
    "fig, ax = plt.subplots(1, 1, figsize=(3, 2))\n",
    "sns.ecdfplot(behav_durations[3],\n",
    "             color='mediumpurple',\n",
    "             ax=ax)\n",
    "sns.ecdfplot(behav_durations[4],\n",
    "             color='deeppink',\n",
    "             ax=ax)"
   ],
   "metadata": {
    "collapsed": false
   }
  },
  {
   "cell_type": "code",
   "execution_count": 54,
   "outputs": [
    {
     "data": {
      "text/plain": "[array([ 60, 133,   6,  72,   3, 105, 618,   1,  14,  13,   2,   7,  17,\n          2,   2,   1,  30,   7,  54,  18,   1,   2,   1,   1,   1,   3,\n          3,   1,   2,   1,   2,   1,   1,   1,   1,   1,   1,   2,   6,\n          7,   1,   1,   2,   5,   8,   1,   1,   2,   1,   1,   3,   3,\n         15,   1,   3,   1,  18,   1,   5,   3,  28,   6,  58,   1,  38,\n          9,   1,   7,   1,   5,   4,   7,   3,   6,   1,   9,   1,   3,\n          3,   4,   5,  13,   4,   6,   3,  12,   6,   5,   5,   3,  10,\n          1,   1,   3,  72,   1,   1,   1,   4,   2,   1,   1,   1,   1,\n          1,   1,   2,   1,   1,  14,   1,   2,   4,   2,   1,   7,   5,\n          2,  14,   3,   2,   1,   1,   1,   1,   1,   6,   1,   2, 135,\n         16,   3,  24,  27,   8,   1,  39,  10,   3,   7,   4,   2,   4,\n          6,   1,   1,   1,   7,   1,   1,   3,   1,   1,   1,  16,   2,\n          1,   1,   2,   1,   4,   1,   1,   1,   6,  12,   9,   6,   8,\n          1,   3,  12,   5,  18,   8,  10,  15,  12,   3,   2,   9,   5,\n         20,  20,   1,   1,   2,   1,   1,   2,   1,   1,   1,   4,   2,\n          1,   1,   2,   1,   4,  14,   2,   1,   1,   1,   2,   3,   5,\n          4,   1,  75,   9,   4,   6,  11,   1,   1,   1,   9,  46,   2,\n          4,   1,   6,   1,   6,   1,   2,   1,   8,   1,   4,   3,   1,\n         18,   1,   3,   1,   1,   5,   1,   7,   1,   4,   1,   1,  12,\n         17,   3,  12,   2,  37,   1,   7,  35,   1,  25,   2,   3,   7,\n          2,   1,  26,   1,   3,   3,  10,   7,   1,  28,   2,   1,  22,\n          3,   2,   1,  23,   1,  10,   6,  75,  22,   1,   2,   1,   3,\n         35,   3,   7,   3,  21,   2,   1,  93,   5,   1,  44,   4,  80,\n          2,   1, 130,   2,   1,   6,   2,   1,   2, 162,  49,   4,   1,\n         46,   1,   1,  33,   1,  73,   4,  46,  14,   3, 167,   1,   1,\n          1, 339,   1,   5, 102,   4,   2,  23,  80,   1,   4,   2,   4,\n          1,   2, 245, 113,  47,   8,  15,  56,   4,  10,   6,   3,  11,\n          2,   9,   1, 125,   2,   2,   1,  24,   5,   1,   1,   1,   3,\n          1,   3,   5,   3,   4,   1, 263,  46, 146,   1, 131,   1,   2,\n        158,   5,   1,   2,   2,   9,  21,   1,   1,   1,   4,   1,   7,\n          2,   4,   5,   1,   1,  16,   2,  44,   4,  30,   5,   6,  43,\n          1,   1,   1,  10,  24,   8,  43,   1,   1,  28,   4,   2,   4,\n         16,   1,   3,   3,   1,  10,  12,   3,  11,   2,  62,  70,   1,\n          1, 122,  43,   2,   3,   2,   1,   1,   1,   2,   4,  10,   1,\n          1,   5,   1,  85,   1,   1,   1,  35,  48,   3,   7,   2,   2,\n          1,   7,   1,   4,   7,  19,   1,  30,   2,   5,   1,   5,   6,\n          6,   1,  10,   1,   1,   5,  13,  44,  37,   9,   3,   1,   1,\n          1,   1,   1,  20,   8,  13,  57,   1,   3,   1,   2,   1,   1,\n          1,   1,   3,   1,   1,   1,   1,   5,  13,   5,   2,   1,  14,\n          1,   4,  11,   5,   1,   1,   4,   1,   9,   2,   3,   2,   1,\n          3,   2,   6,   1,   7,   2,   1,   3,   7,   3,   1,   1,   1,\n         16,   3,  12,   2,   1,   1,   1,  22,   9,  11,   9,   1,   1,\n          1,  16,   1,   2,   5,   1,   3,   1,   4,   8,  20,   4,   6,\n          1,  81,   2,   1,  10,   4,  75,   1,   1,  13,   2,   8,   8,\n          2,   2,  11,   7,   2,   1,  47,   1,  59,  49,   4,  98,  27,\n          1,  46,   1,   1,   2,   1,   3,  25,  37,   1,   6, 124,   3,\n          1,   1,   1, 248, 320,   5,  64,   3,   1,  22,   1,   4,   1,\n         84,   1,  82,   9,   3,  12,   2,   1,   1,   9,   2,   5,   7,\n         16,   5,   2,   2,   7,   1,   3,   3,   2,   1,   6,  36,   2,\n          2,  90,  96,   6,   1, 119,  49,   1,   1,   3,   2,  11,   6,\n          3,  11,   2,   1,   1,  27,   6,   3,   3,  64, 327,   4,   9,\n          2,  13,  25,  35,  41,   7, 195,  51,   2,  94,   2,  26, 104,\n         11,   1,   1,   1,   1, 183,  30,   2, 102,   1,   1,   1,   1,\n          9,   1,   1,   1,   1,  21,   2,   9,   1,   1,   5,   2,   2,\n          1,  58,   1,  27,  47, 101,   1,   5,  61,   3,  55,   8,   3,\n          2,   1,   1,   4,   3,   1,   6,   2,  12,   3,  22,   1,   4,\n          2,   1,   1,   1,   5,   1,   2,   6,   3,   1,  19,  21,   1,\n         44,  28,  55,  16,   5,   4,   8,   1,  29,   2,   2,   1,   6,\n         67,   1,  90]),\n array([ 2,  3,  2,  1,  1,  1,  2,  1,  1,  1,  1,  4,  1,  3,  1,  1,  1,\n         1,  1,  1,  1,  2,  2,  1,  1,  3,  1,  1,  1,  3,  1,  2,  1,  2,\n         1,  1,  1,  1,  1,  2,  1,  1,  1,  8,  2,  1,  1,  1,  1,  1,  1,\n         2,  1,  1,  1,  1,  1,  3,  1,  1,  1,  1,  1,  2,  1,  1,  1,  4,\n         2,  6,  1,  1,  4,  1, 13,  2,  1, 11,  2,  2,  1,  3,  4,  7,  4,\n        13,  2,  9,  3,  1, 14, 13, 17,  4,  1,  2,  2,  6,  1,  3, 11,  2,\n         1,  1,  2,  1,  1,  1,  1,  1,  1,  1,  1,  1,  1,  1,  1,  1,  1,\n         2,  2,  1,  1,  1,  1,  1,  3,  5,  2,  4,  1,  1,  1,  1,  4,  1,\n         2,  1,  3,  1,  2,  5,  1,  1,  1,  2,  1,  7,  1,  1,  6,  2,  1,\n         1,  1,  1,  1,  1,  2,  2,  1,  1,  1,  3,  1, 20,  1,  2, 12]),\n array([  3,   9,   6,   1,  19,   3,   2,   4,   4,  12,   1,   1,  24,\n          4,  14,   1,   1,  13,  53,  73,   1,   9,   1,   1,   1,   1,\n          5,   3,   3,  14,   3,   6,   1,   7,  11,  10,   1,   6,   1,\n          1,   1,   1, 102,   9,   3,   4,   1,   5,  37,   1,   1,   2,\n          1,   2,   1,   2,   1,   1,   2,   2,   3,   1,   1,   8,  25,\n          8,  13,   3,   1,   3,   1,   1,   5,   4,   2,   1, 131,   2,\n         13,   1,   1,   9,   1,   7,   3,   1,   1,   3,   1,   4,   1,\n          2,   1,   1,   4,   9,   1,   1,   2,   2,   1,   1,   4,   3,\n          1,   1,   3,   2,   1,   1,   5,  22,   1,   1,   6,  10,   4,\n         26,  12,   3,   1,   6,  13,  18,   1,   1,   6,   5,   7,  24,\n         12,   5,   1,   7,   3,  28,   1,   1,   2,   6,   2,   1,   1,\n         11,   4,   8,   1,   1,   2,   1,   7,   3,   4,   3,   3,   2,\n          3,   2,   1,  11,  11,   5,   4,   2,   3,   4,   2,   1,   1,\n          3,   1,   2,   1,   3,   2,   1,   1,   4,   1,   1,   1,   2,\n          1,   1,   4,   2,   1,   1,   1,   1,   4,   1,   2,   1,   1,\n          1,   3,   6,   1,   4,   2,   4,   6,   5,   1,   3,   7,   8,\n          4,   8,   1,   1,   2,   3,   1,   5,  14,  25,   3,   2,   1,\n          5,   1,   1,   1,   1,   3,   1,   1,   1,   4,   4,   3,   2,\n          2,   1,  32,   3,   4,   7,   2,   3,   2,  10,   8,   3,   1,\n          1,   2,   4,   1,   2,   4,   1,   1,   1,   2,   1,   2,   4,\n          2,   1,   1,   1,   1,   1,   1,   1,   1,   3,   1,   1,   2,\n         18,   1,   5,  12,  11,   3,   2,   4,   2,   2,  20,  30,   3,\n          1,   2,   1,   1,   2,  15,   2,  10,   1,   5,   2,   1,   3,\n          4,   2,   6,   3,   2,   1,   2,   3,   2,  12,   3,   4,   4,\n          1,   2,   1,  10,   1,   3,   1,   1,   1,   4,  14,   1,   4,\n          1,   3,   2,   2,   1,   2,   1,   8,   1,   1,   3,   1,   2,\n         14,   8,   9,  58,   2,   1,   2,   1,   1,   2,   1,   1,   9,\n         43,   3,   3,   3,  29,  35,   1,   3,   1,   2,   1,   1,   1,\n          1,   2,   4,   1,   2,   1,   1,   1,   1,   2,  12,   5,   1,\n          4,   2,   1,   1,   1,   5,   1,   1,   1,   3,   2,   2,   1,\n          1,   1,   2,   3,   1,   1,   1,   1,   1,   2,   1,   8,   1,\n          4,   8,  41,   4,   4,   4,   9,   1,   3,   1,   1,  21,  70,\n         28,   1,   3,   2,   1,   1,   1,   2,  20,   1,   1,   1,   1,\n          5,   8,   2,   1,   1,   1,   1,   1,   2,   1,   2,   2,   9,\n          5,   1]),\n array([2, 2, 1, 7, 1, 3, 3, 1, 1, 1, 1, 2, 1, 1, 1, 2, 1, 1, 1, 1, 1, 1,\n        2, 2, 1, 1, 3, 3, 4, 2, 7, 1, 1, 1, 1, 1, 2, 2, 5, 1, 3, 1, 1, 1,\n        3, 3, 2, 1, 1, 2, 3, 3, 1, 2, 1, 1, 1, 7, 4, 1, 1, 2, 1, 1, 1, 2,\n        1, 1, 5, 4, 4, 1, 3, 6, 1, 3, 5, 1, 1, 3, 5, 1, 1, 3, 2, 1, 3, 1,\n        6, 4, 1, 1, 1, 1, 1, 2, 3, 6, 2, 7, 1, 3, 1, 1, 1, 1, 1, 3, 2, 5,\n        1, 3, 2, 4, 1, 2, 2, 1, 1, 1, 1, 1, 1, 1, 7, 1, 5, 5, 2, 2, 1, 4,\n        3, 5, 1, 2, 5, 1, 1, 2, 1, 1, 4, 4, 1, 1, 1, 1, 1, 5, 1, 2, 1, 2,\n        2, 1, 1, 1, 2, 2, 1, 1, 1, 1, 2, 3, 2, 2, 3, 2, 1, 7, 3, 2, 1, 2,\n        2, 5, 1, 1, 1, 1, 5, 1, 2, 2, 1, 7]),\n array([ 3,  1,  5,  1,  2,  1,  3,  3,  2,  1,  2,  2,  1,  2,  1,  1,  2,\n         5,  2,  2,  1,  4,  3,  1,  1,  1,  1,  2,  1,  2,  1,  2,  3,  1,\n         1,  1,  1,  1,  3,  4,  2,  1,  1,  5,  1,  2,  5,  2,  3,  2,  1,\n         1,  2,  2,  3,  9,  1,  1,  5,  1,  6,  3, 10,  2,  1,  1,  2,  3,\n        16,  2,  1,  1,  3,  4,  1,  1,  1,  1,  1,  2,  2,  8,  4,  1,  1,\n         6,  1,  2,  2,  1,  1,  1,  2,  2,  1,  1, 10,  1,  1,  3, 12,  6,\n         7,  2,  7,  1,  1,  4,  2,  1,  3,  4,  1,  3,  1,  6,  1,  2,  3,\n         2,  1,  1]),\n array([ 2,  3, 10,  1,  1, 12,  1,  1,  3,  9,  2,  5,  5,  6,  3,  1,  1,\n         2, 17,  2,  1,  5, 10,  1,  2,  2,  2,  1,  1, 13,  4,  1,  3,  2,\n        12,  2,  1,  6,  1,  1, 11,  9,  6,  2,  5,  7,  2,  4,  1,  2,  1,\n         3,  1, 16,  3,  2,  9,  1,  1,  5,  6,  1,  9,  6, 12,  1,  3,  3,\n         7,  1,  1,  8,  1,  1,  1,  1,  1,  4,  8,  1,  4,  3,  1,  5,  1,\n         4,  3,  7,  6,  5,  9,  5,  5,  2,  2,  1, 10, 17,  1,  4,  2,  2,\n         1,  2,  2,  2,  1,  4,  5,  1,  4,  1,  1,  2,  2,  1,  1,  2,  1,\n         5,  3, 12,  2,  1,  1,  1,  1,  4, 12,  2,  8,  3,  5, 11,  5,  1,\n         3,  1, 13,  1,  2, 13,  3,  3,  1,  1,  1,  3, 11,  2,  4,  1,  1,\n         2,  3, 15,  2,  1,  6,  4,  1,  2,  2, 11])]"
     },
     "execution_count": 54,
     "metadata": {},
     "output_type": "execute_result"
    }
   ],
   "source": [
    "behav_durations"
   ],
   "metadata": {
    "collapsed": false
   }
  },
  {
   "cell_type": "code",
   "execution_count": 55,
   "outputs": [
    {
     "data": {
      "text/plain": "<Figure size 400x300 with 1 Axes>",
      "image/png": "[encoded data removed]"
     },
     "metadata": {},
     "output_type": "display_data"
    }
   ],
   "source": [
    "fig, ax = plt.subplots(1, 1, figsize=(4, 3))\n",
    "ax = sns.histplot(data=behav_durations,\n",
    "                  shrink=2,\n",
    "                  multiple='dodge',\n",
    "                  # stat = 'percent',\n",
    "                  common_norm=False)\n",
    "ax.set_title('depleted (wt)')\n",
    "ax.set_xticks(np.arange(0, len(label_names)))\n",
    "ax.set_xticklabels(label_names)\n",
    "ax.set_ylim([0, 20])\n",
    "plt.show()"
   ],
   "metadata": {
    "collapsed": false
   }
  },
  {
   "cell_type": "code",
   "execution_count": 57,
   "outputs": [
    {
     "data": {
      "text/plain": "<AxesSubplot: >"
     },
     "execution_count": 57,
     "metadata": {},
     "output_type": "execute_result"
    },
    {
     "data": {
      "text/plain": "<Figure size 640x480 with 1 Axes>",
      "image/png": "[encoded data removed]"
     },
     "metadata": {},
     "output_type": "display_data"
    }
   ],
   "source": [
    "sns.(behav_durations, showfliers=False)"
   ],
   "metadata": {
    "collapsed": false
   }
  },
  {
   "cell_type": "code",
   "execution_count": null,
   "outputs": [],
   "source": [],
   "metadata": {
    "collapsed": false
   }
  }
 ],
 "metadata": {
  "kernelspec": {
   "display_name": "Python 3",
   "language": "python",
   "name": "python3"
  },
  "language_info": {
   "codemirror_mode": {
    "name": "ipython",
    "version": 2
   },
   "file_extension": ".py",
   "mimetype": "text/x-python",
   "name": "python",
   "nbconvert_exporter": "python",
   "pygments_lexer": "ipython2",
   "version": "2.7.6"
  }
 },
 "nbformat": 4,
 "nbformat_minor": 0
}
